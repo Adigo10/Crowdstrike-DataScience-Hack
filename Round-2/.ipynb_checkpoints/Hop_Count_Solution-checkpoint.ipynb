{
 "cells": [
  {
   "cell_type": "markdown",
   "metadata": {},
   "source": [
    "# Hackerearth CrowdStrike Hackathon"
   ]
  },
  {
   "cell_type": "markdown",
   "metadata": {},
   "source": [
    "First, my basic approach is to observer the train datset.As the problem statement is not likely to be a simple multiclass prediction problem, rather it is based ona graph based network problem to optimize flight paths. I thought to apply Dijikstra Shortest Path algorithm to find the shortest path length and the hops counts will be 1 less."
   ]
  },
  {
   "cell_type": "markdown",
   "metadata": {},
   "source": [
    "## Importing the necessary Library Modules"
   ]
  },
  {
   "cell_type": "code",
   "execution_count": 1,
   "metadata": {},
   "outputs": [],
   "source": [
    "import pandas as pd\n",
    "import numpy as np\n",
    "import matplotlib.pyplot as plt\n",
    "import seaborn as sns\n",
    "import warnings\n",
    "from IPython.core.display import HTML\n",
    "warnings.simplefilter(\"ignore\")"
   ]
  },
  {
   "cell_type": "code",
   "execution_count": 2,
   "metadata": {},
   "outputs": [],
   "source": [
    "dataset_train = pd.read_csv('Airlines Data CrowdStrike - RawTest_v5.csv')"
   ]
  },
  {
   "cell_type": "code",
   "execution_count": 3,
   "metadata": {},
   "outputs": [
    {
     "data": {
      "text/html": [
       "<div>\n",
       "<style scoped>\n",
       "    .dataframe tbody tr th:only-of-type {\n",
       "        vertical-align: middle;\n",
       "    }\n",
       "\n",
       "    .dataframe tbody tr th {\n",
       "        vertical-align: top;\n",
       "    }\n",
       "\n",
       "    .dataframe thead th {\n",
       "        text-align: right;\n",
       "    }\n",
       "</style>\n",
       "<table border=\"1\" class=\"dataframe\">\n",
       "  <thead>\n",
       "    <tr style=\"text-align: right;\">\n",
       "      <th></th>\n",
       "      <th>AirlineID</th>\n",
       "      <th>SourceAirportID</th>\n",
       "      <th>DestinationAirportID</th>\n",
       "    </tr>\n",
       "  </thead>\n",
       "  <tbody>\n",
       "    <tr>\n",
       "      <td>0</td>\n",
       "      <td>2C</td>\n",
       "      <td>ADV</td>\n",
       "      <td>AFH</td>\n",
       "    </tr>\n",
       "    <tr>\n",
       "      <td>1</td>\n",
       "      <td>3B</td>\n",
       "      <td>ADV</td>\n",
       "      <td>AHD</td>\n",
       "    </tr>\n",
       "    <tr>\n",
       "      <td>2</td>\n",
       "      <td>4A</td>\n",
       "      <td>ADV</td>\n",
       "      <td>BPU</td>\n",
       "    </tr>\n",
       "    <tr>\n",
       "      <td>3</td>\n",
       "      <td>6D</td>\n",
       "      <td>ADV</td>\n",
       "      <td>KEM</td>\n",
       "    </tr>\n",
       "    <tr>\n",
       "      <td>4</td>\n",
       "      <td>7E</td>\n",
       "      <td>ADV</td>\n",
       "      <td>LZL</td>\n",
       "    </tr>\n",
       "    <tr>\n",
       "      <td>5</td>\n",
       "      <td>9K</td>\n",
       "      <td>ADW</td>\n",
       "      <td>AFS</td>\n",
       "    </tr>\n",
       "    <tr>\n",
       "      <td>6</td>\n",
       "      <td>1Z</td>\n",
       "      <td>ADW</td>\n",
       "      <td>DBI</td>\n",
       "    </tr>\n",
       "    <tr>\n",
       "      <td>7</td>\n",
       "      <td>5L</td>\n",
       "      <td>ADW</td>\n",
       "      <td>GNH</td>\n",
       "    </tr>\n",
       "    <tr>\n",
       "      <td>8</td>\n",
       "      <td>8M</td>\n",
       "      <td>ADW</td>\n",
       "      <td>KDD</td>\n",
       "    </tr>\n",
       "    <tr>\n",
       "      <td>9</td>\n",
       "      <td>2C</td>\n",
       "      <td>ADW</td>\n",
       "      <td>LZM</td>\n",
       "    </tr>\n",
       "  </tbody>\n",
       "</table>\n",
       "</div>"
      ],
      "text/plain": [
       "  AirlineID SourceAirportID DestinationAirportID\n",
       "0        2C             ADV                  AFH\n",
       "1        3B             ADV                  AHD\n",
       "2        4A             ADV                  BPU\n",
       "3        6D             ADV                  KEM\n",
       "4        7E             ADV                  LZL\n",
       "5        9K             ADW                  AFS\n",
       "6        1Z             ADW                  DBI\n",
       "7        5L             ADW                  GNH\n",
       "8        8M             ADW                  KDD\n",
       "9        2C             ADW                  LZM"
      ]
     },
     "execution_count": 3,
     "metadata": {},
     "output_type": "execute_result"
    }
   ],
   "source": [
    "dataset_train.head(10)"
   ]
  },
  {
   "cell_type": "code",
   "execution_count": 4,
   "metadata": {},
   "outputs": [
    {
     "name": "stdout",
     "output_type": "stream",
     "text": [
      "Shape of Traning Data is (9900, 3)\n"
     ]
    }
   ],
   "source": [
    "#Training Dataset Size\n",
    "print(\"Shape of Traning Data is\",dataset_train.shape)"
   ]
  },
  {
   "cell_type": "code",
   "execution_count": 5,
   "metadata": {},
   "outputs": [
    {
     "data": {
      "text/html": [
       "<div>\n",
       "<style scoped>\n",
       "    .dataframe tbody tr th:only-of-type {\n",
       "        vertical-align: middle;\n",
       "    }\n",
       "\n",
       "    .dataframe tbody tr th {\n",
       "        vertical-align: top;\n",
       "    }\n",
       "\n",
       "    .dataframe thead th {\n",
       "        text-align: right;\n",
       "    }\n",
       "</style>\n",
       "<table border=\"1\" class=\"dataframe\">\n",
       "  <thead>\n",
       "    <tr style=\"text-align: right;\">\n",
       "      <th></th>\n",
       "      <th>AirlineID</th>\n",
       "      <th>SourceAirportID</th>\n",
       "      <th>DestinationAirportID</th>\n",
       "    </tr>\n",
       "  </thead>\n",
       "  <tbody>\n",
       "    <tr>\n",
       "      <td>count</td>\n",
       "      <td>9900</td>\n",
       "      <td>9900</td>\n",
       "      <td>9900</td>\n",
       "    </tr>\n",
       "    <tr>\n",
       "      <td>unique</td>\n",
       "      <td>9</td>\n",
       "      <td>1991</td>\n",
       "      <td>1989</td>\n",
       "    </tr>\n",
       "    <tr>\n",
       "      <td>top</td>\n",
       "      <td>3B</td>\n",
       "      <td>DBI</td>\n",
       "      <td>BRB</td>\n",
       "    </tr>\n",
       "    <tr>\n",
       "      <td>freq</td>\n",
       "      <td>1142</td>\n",
       "      <td>13</td>\n",
       "      <td>14</td>\n",
       "    </tr>\n",
       "  </tbody>\n",
       "</table>\n",
       "</div>"
      ],
      "text/plain": [
       "       AirlineID SourceAirportID DestinationAirportID\n",
       "count       9900            9900                 9900\n",
       "unique         9            1991                 1989\n",
       "top           3B             DBI                  BRB\n",
       "freq        1142              13                   14"
      ]
     },
     "execution_count": 5,
     "metadata": {},
     "output_type": "execute_result"
    }
   ],
   "source": [
    "dataset_train.describe()"
   ]
  },
  {
   "cell_type": "code",
   "execution_count": 6,
   "metadata": {},
   "outputs": [
    {
     "name": "stdout",
     "output_type": "stream",
     "text": [
      "Class size:\n",
      " SourceAirportID\n",
      "ADV    5\n",
      "ADW    7\n",
      "ADX    8\n",
      "ADY    4\n",
      "ADZ    8\n",
      "      ..\n",
      "VCM    3\n",
      "VCN    3\n",
      "VCO    3\n",
      "VCP    3\n",
      "VCQ    4\n",
      "Length: 1991, dtype: int64\n"
     ]
    }
   ],
   "source": [
    "grouped = dataset_train.groupby('SourceAirportID')\n",
    "print(\"Class size:\\n\", grouped.size())\n"
   ]
  },
  {
   "cell_type": "code",
   "execution_count": 7,
   "metadata": {},
   "outputs": [
    {
     "name": "stdout",
     "output_type": "stream",
     "text": [
      "No of Unique Source Airports 1991\n",
      "No of Unique Destination Airports 1989\n"
     ]
    }
   ],
   "source": [
    "#Unique Value Counts\n",
    "print(\"No of Unique Source Airports\",dataset_train['SourceAirportID'].nunique())\n",
    "print(\"No of Unique Destination Airports\",dataset_train['DestinationAirportID'].nunique())"
   ]
  },
  {
   "cell_type": "code",
   "execution_count": 8,
   "metadata": {},
   "outputs": [
    {
     "name": "stdout",
     "output_type": "stream",
     "text": [
      "No of Missing Values AirlineID               0\n",
      "SourceAirportID         0\n",
      "DestinationAirportID    0\n",
      "dtype: int64\n"
     ]
    }
   ],
   "source": [
    "#Missing Values Count\n",
    "print(\"No of Missing Values\",dataset_train.isnull().sum())"
   ]
  },
  {
   "cell_type": "code",
   "execution_count": 9,
   "metadata": {},
   "outputs": [
    {
     "name": "stdout",
     "output_type": "stream",
     "text": [
      "['ADV' 'ADV' 'ADV' ... 'VCQ' 'VCQ' 'VCQ']\n",
      "Size of Source Airport Array: 9900\n"
     ]
    }
   ],
   "source": [
    "#Craeting Array of Source Airports\n",
    "source_airport_Array = dataset_train['SourceAirportID'].values\n",
    "print(source_airport_Array)\n",
    "print(\"Size of Source Airport Array:\",source_airport_Array.size)"
   ]
  },
  {
   "cell_type": "code",
   "execution_count": 10,
   "metadata": {},
   "outputs": [
    {
     "name": "stdout",
     "output_type": "stream",
     "text": [
      "['AFH' 'AHD' 'BPU' ... 'PBX' 'SBO' 'UWN']\n",
      "Size of Destination Airport Array: 9900\n"
     ]
    }
   ],
   "source": [
    "#Craeting Array of Destination Airports\n",
    "destination_airport_Array = dataset_train['DestinationAirportID'].values\n",
    "print(destination_airport_Array)\n",
    "print(\"Size of Destination Airport Array:\",destination_airport_Array.size)"
   ]
  },
  {
   "cell_type": "markdown",
   "metadata": {},
   "source": [
    "## Dijkstra's Shortest Path Algorithm Implementation"
   ]
  },
  {
   "cell_type": "markdown",
   "metadata": {},
   "source": [
    "I have created an adjacancy Matrix for getting the connected Node Components of each airport with other.It will be used to determine shortest path between each Node(Airports)."
   ]
  },
  {
   "cell_type": "code",
   "execution_count": 11,
   "metadata": {},
   "outputs": [],
   "source": [
    "adjacancy_matrix = pd.crosstab(dataset_train['SourceAirportID'],dataset_train['DestinationAirportID'])"
   ]
  },
  {
   "cell_type": "code",
   "execution_count": 12,
   "metadata": {},
   "outputs": [],
   "source": [
    "idx = adjacancy_matrix.columns.union(adjacancy_matrix.index)\n",
    "adjacancy_matrix = adjacancy_matrix.reindex(index=idx,columns=idx,fill_value=0)\n",
    "adjacancy_matrix.to_csv('Adjacancy_matrix.csv')"
   ]
  },
  {
   "cell_type": "code",
   "execution_count": 13,
   "metadata": {},
   "outputs": [
    {
     "data": {
      "text/html": [
       "<div>\n",
       "<style scoped>\n",
       "    .dataframe tbody tr th:only-of-type {\n",
       "        vertical-align: middle;\n",
       "    }\n",
       "\n",
       "    .dataframe tbody tr th {\n",
       "        vertical-align: top;\n",
       "    }\n",
       "\n",
       "    .dataframe thead th {\n",
       "        text-align: right;\n",
       "    }\n",
       "</style>\n",
       "<table border=\"1\" class=\"dataframe\">\n",
       "  <thead>\n",
       "    <tr style=\"text-align: right;\">\n",
       "      <th></th>\n",
       "      <th>ADV</th>\n",
       "      <th>ADW</th>\n",
       "      <th>ADX</th>\n",
       "      <th>ADY</th>\n",
       "      <th>ADZ</th>\n",
       "      <th>AEA</th>\n",
       "      <th>AEB</th>\n",
       "      <th>AEC</th>\n",
       "      <th>AED</th>\n",
       "      <th>AEE</th>\n",
       "      <th>...</th>\n",
       "      <th>VCH</th>\n",
       "      <th>VCI</th>\n",
       "      <th>VCJ</th>\n",
       "      <th>VCK</th>\n",
       "      <th>VCL</th>\n",
       "      <th>VCM</th>\n",
       "      <th>VCN</th>\n",
       "      <th>VCO</th>\n",
       "      <th>VCP</th>\n",
       "      <th>VCQ</th>\n",
       "    </tr>\n",
       "  </thead>\n",
       "  <tbody>\n",
       "    <tr>\n",
       "      <td>ADV</td>\n",
       "      <td>0</td>\n",
       "      <td>0</td>\n",
       "      <td>0</td>\n",
       "      <td>0</td>\n",
       "      <td>0</td>\n",
       "      <td>0</td>\n",
       "      <td>0</td>\n",
       "      <td>0</td>\n",
       "      <td>0</td>\n",
       "      <td>0</td>\n",
       "      <td>...</td>\n",
       "      <td>0</td>\n",
       "      <td>0</td>\n",
       "      <td>0</td>\n",
       "      <td>0</td>\n",
       "      <td>0</td>\n",
       "      <td>0</td>\n",
       "      <td>0</td>\n",
       "      <td>0</td>\n",
       "      <td>0</td>\n",
       "      <td>0</td>\n",
       "    </tr>\n",
       "    <tr>\n",
       "      <td>ADW</td>\n",
       "      <td>0</td>\n",
       "      <td>0</td>\n",
       "      <td>0</td>\n",
       "      <td>0</td>\n",
       "      <td>0</td>\n",
       "      <td>0</td>\n",
       "      <td>0</td>\n",
       "      <td>0</td>\n",
       "      <td>0</td>\n",
       "      <td>0</td>\n",
       "      <td>...</td>\n",
       "      <td>0</td>\n",
       "      <td>0</td>\n",
       "      <td>0</td>\n",
       "      <td>0</td>\n",
       "      <td>0</td>\n",
       "      <td>0</td>\n",
       "      <td>0</td>\n",
       "      <td>0</td>\n",
       "      <td>0</td>\n",
       "      <td>0</td>\n",
       "    </tr>\n",
       "    <tr>\n",
       "      <td>ADX</td>\n",
       "      <td>0</td>\n",
       "      <td>0</td>\n",
       "      <td>0</td>\n",
       "      <td>0</td>\n",
       "      <td>0</td>\n",
       "      <td>0</td>\n",
       "      <td>0</td>\n",
       "      <td>0</td>\n",
       "      <td>0</td>\n",
       "      <td>0</td>\n",
       "      <td>...</td>\n",
       "      <td>0</td>\n",
       "      <td>0</td>\n",
       "      <td>0</td>\n",
       "      <td>0</td>\n",
       "      <td>0</td>\n",
       "      <td>0</td>\n",
       "      <td>0</td>\n",
       "      <td>0</td>\n",
       "      <td>0</td>\n",
       "      <td>0</td>\n",
       "    </tr>\n",
       "    <tr>\n",
       "      <td>ADY</td>\n",
       "      <td>0</td>\n",
       "      <td>0</td>\n",
       "      <td>0</td>\n",
       "      <td>0</td>\n",
       "      <td>0</td>\n",
       "      <td>0</td>\n",
       "      <td>0</td>\n",
       "      <td>0</td>\n",
       "      <td>0</td>\n",
       "      <td>0</td>\n",
       "      <td>...</td>\n",
       "      <td>0</td>\n",
       "      <td>0</td>\n",
       "      <td>0</td>\n",
       "      <td>0</td>\n",
       "      <td>0</td>\n",
       "      <td>0</td>\n",
       "      <td>0</td>\n",
       "      <td>0</td>\n",
       "      <td>0</td>\n",
       "      <td>0</td>\n",
       "    </tr>\n",
       "    <tr>\n",
       "      <td>ADZ</td>\n",
       "      <td>0</td>\n",
       "      <td>0</td>\n",
       "      <td>0</td>\n",
       "      <td>0</td>\n",
       "      <td>0</td>\n",
       "      <td>0</td>\n",
       "      <td>0</td>\n",
       "      <td>0</td>\n",
       "      <td>0</td>\n",
       "      <td>0</td>\n",
       "      <td>...</td>\n",
       "      <td>0</td>\n",
       "      <td>0</td>\n",
       "      <td>0</td>\n",
       "      <td>0</td>\n",
       "      <td>0</td>\n",
       "      <td>0</td>\n",
       "      <td>0</td>\n",
       "      <td>0</td>\n",
       "      <td>0</td>\n",
       "      <td>0</td>\n",
       "    </tr>\n",
       "  </tbody>\n",
       "</table>\n",
       "<p>5 rows × 2000 columns</p>\n",
       "</div>"
      ],
      "text/plain": [
       "     ADV  ADW  ADX  ADY  ADZ  AEA  AEB  AEC  AED  AEE  ...  VCH  VCI  VCJ  \\\n",
       "ADV    0    0    0    0    0    0    0    0    0    0  ...    0    0    0   \n",
       "ADW    0    0    0    0    0    0    0    0    0    0  ...    0    0    0   \n",
       "ADX    0    0    0    0    0    0    0    0    0    0  ...    0    0    0   \n",
       "ADY    0    0    0    0    0    0    0    0    0    0  ...    0    0    0   \n",
       "ADZ    0    0    0    0    0    0    0    0    0    0  ...    0    0    0   \n",
       "\n",
       "     VCK  VCL  VCM  VCN  VCO  VCP  VCQ  \n",
       "ADV    0    0    0    0    0    0    0  \n",
       "ADW    0    0    0    0    0    0    0  \n",
       "ADX    0    0    0    0    0    0    0  \n",
       "ADY    0    0    0    0    0    0    0  \n",
       "ADZ    0    0    0    0    0    0    0  \n",
       "\n",
       "[5 rows x 2000 columns]"
      ]
     },
     "execution_count": 13,
     "metadata": {},
     "output_type": "execute_result"
    }
   ],
   "source": [
    "adjacancy_matrix.head()"
   ]
  },
  {
   "cell_type": "code",
   "execution_count": 14,
   "metadata": {},
   "outputs": [
    {
     "name": "stdout",
     "output_type": "stream",
     "text": [
      "Size of Adjacancy Matrix is: (2000, 2000)\n"
     ]
    }
   ],
   "source": [
    "print(\"Size of Adjacancy Matrix is:\",adjacancy_matrix.shape)"
   ]
  },
  {
   "cell_type": "markdown",
   "metadata": {},
   "source": [
    "I have used NetworkX Api for implementing the Dijkstra Algorithm"
   ]
  },
  {
   "cell_type": "code",
   "execution_count": 15,
   "metadata": {},
   "outputs": [],
   "source": [
    "import pandas as pd\n",
    "import networkx as nx\n",
    "input_data = pd.read_csv('Adjacancy_matrix.csv', index_col=0)\n",
    "G = nx.DiGraph(input_data.values)"
   ]
  },
  {
   "cell_type": "code",
   "execution_count": 16,
   "metadata": {
    "scrolled": false
   },
   "outputs": [
    {
     "data": {
      "image/png": "[encoded data removed]",
      "text/plain": [
       "<Figure size 432x288 with 1 Axes>"
      ]
     },
     "metadata": {},
     "output_type": "display_data"
    }
   ],
   "source": [
    "nx.draw(G)"
   ]
  },
  {
   "cell_type": "code",
   "execution_count": 17,
   "metadata": {},
   "outputs": [],
   "source": [
    "input_data = pd.read_csv('Adjacancy_matrix.csv', index_col=0)"
   ]
  },
  {
   "cell_type": "code",
   "execution_count": 18,
   "metadata": {},
   "outputs": [
    {
     "data": {
      "text/html": [
       "<div>\n",
       "<style scoped>\n",
       "    .dataframe tbody tr th:only-of-type {\n",
       "        vertical-align: middle;\n",
       "    }\n",
       "\n",
       "    .dataframe tbody tr th {\n",
       "        vertical-align: top;\n",
       "    }\n",
       "\n",
       "    .dataframe thead th {\n",
       "        text-align: right;\n",
       "    }\n",
       "</style>\n",
       "<table border=\"1\" class=\"dataframe\">\n",
       "  <thead>\n",
       "    <tr style=\"text-align: right;\">\n",
       "      <th></th>\n",
       "      <th>ADV</th>\n",
       "      <th>ADW</th>\n",
       "      <th>ADX</th>\n",
       "      <th>ADY</th>\n",
       "      <th>ADZ</th>\n",
       "      <th>AEA</th>\n",
       "      <th>AEB</th>\n",
       "      <th>AEC</th>\n",
       "      <th>AED</th>\n",
       "      <th>AEE</th>\n",
       "      <th>...</th>\n",
       "      <th>VCH</th>\n",
       "      <th>VCI</th>\n",
       "      <th>VCJ</th>\n",
       "      <th>VCK</th>\n",
       "      <th>VCL</th>\n",
       "      <th>VCM</th>\n",
       "      <th>VCN</th>\n",
       "      <th>VCO</th>\n",
       "      <th>VCP</th>\n",
       "      <th>VCQ</th>\n",
       "    </tr>\n",
       "  </thead>\n",
       "  <tbody>\n",
       "    <tr>\n",
       "      <td>ADV</td>\n",
       "      <td>0</td>\n",
       "      <td>0</td>\n",
       "      <td>0</td>\n",
       "      <td>0</td>\n",
       "      <td>0</td>\n",
       "      <td>0</td>\n",
       "      <td>0</td>\n",
       "      <td>0</td>\n",
       "      <td>0</td>\n",
       "      <td>0</td>\n",
       "      <td>...</td>\n",
       "      <td>0</td>\n",
       "      <td>0</td>\n",
       "      <td>0</td>\n",
       "      <td>0</td>\n",
       "      <td>0</td>\n",
       "      <td>0</td>\n",
       "      <td>0</td>\n",
       "      <td>0</td>\n",
       "      <td>0</td>\n",
       "      <td>0</td>\n",
       "    </tr>\n",
       "    <tr>\n",
       "      <td>ADW</td>\n",
       "      <td>0</td>\n",
       "      <td>0</td>\n",
       "      <td>0</td>\n",
       "      <td>0</td>\n",
       "      <td>0</td>\n",
       "      <td>0</td>\n",
       "      <td>0</td>\n",
       "      <td>0</td>\n",
       "      <td>0</td>\n",
       "      <td>0</td>\n",
       "      <td>...</td>\n",
       "      <td>0</td>\n",
       "      <td>0</td>\n",
       "      <td>0</td>\n",
       "      <td>0</td>\n",
       "      <td>0</td>\n",
       "      <td>0</td>\n",
       "      <td>0</td>\n",
       "      <td>0</td>\n",
       "      <td>0</td>\n",
       "      <td>0</td>\n",
       "    </tr>\n",
       "    <tr>\n",
       "      <td>ADX</td>\n",
       "      <td>0</td>\n",
       "      <td>0</td>\n",
       "      <td>0</td>\n",
       "      <td>0</td>\n",
       "      <td>0</td>\n",
       "      <td>0</td>\n",
       "      <td>0</td>\n",
       "      <td>0</td>\n",
       "      <td>0</td>\n",
       "      <td>0</td>\n",
       "      <td>...</td>\n",
       "      <td>0</td>\n",
       "      <td>0</td>\n",
       "      <td>0</td>\n",
       "      <td>0</td>\n",
       "      <td>0</td>\n",
       "      <td>0</td>\n",
       "      <td>0</td>\n",
       "      <td>0</td>\n",
       "      <td>0</td>\n",
       "      <td>0</td>\n",
       "    </tr>\n",
       "  </tbody>\n",
       "</table>\n",
       "<p>3 rows × 2000 columns</p>\n",
       "</div>"
      ],
      "text/plain": [
       "     ADV  ADW  ADX  ADY  ADZ  AEA  AEB  AEC  AED  AEE  ...  VCH  VCI  VCJ  \\\n",
       "ADV    0    0    0    0    0    0    0    0    0    0  ...    0    0    0   \n",
       "ADW    0    0    0    0    0    0    0    0    0    0  ...    0    0    0   \n",
       "ADX    0    0    0    0    0    0    0    0    0    0  ...    0    0    0   \n",
       "\n",
       "     VCK  VCL  VCM  VCN  VCO  VCP  VCQ  \n",
       "ADV    0    0    0    0    0    0    0  \n",
       "ADW    0    0    0    0    0    0    0  \n",
       "ADX    0    0    0    0    0    0    0  \n",
       "\n",
       "[3 rows x 2000 columns]"
      ]
     },
     "execution_count": 18,
     "metadata": {},
     "output_type": "execute_result"
    }
   ],
   "source": [
    "input_data.head(3)"
   ]
  },
  {
   "cell_type": "code",
   "execution_count": 19,
   "metadata": {},
   "outputs": [
    {
     "data": {
      "text/plain": [
       "4"
      ]
     },
     "execution_count": 19,
     "metadata": {},
     "output_type": "execute_result"
    }
   ],
   "source": [
    "nx.shortest_path_length(G, source=0, target=1799)"
   ]
  },
  {
   "cell_type": "code",
   "execution_count": 20,
   "metadata": {},
   "outputs": [],
   "source": [
    "labels = np.array(input_data.columns)"
   ]
  },
  {
   "cell_type": "code",
   "execution_count": 21,
   "metadata": {},
   "outputs": [],
   "source": [
    "indexes = list(np.arange(0,2000,1))"
   ]
  },
  {
   "cell_type": "markdown",
   "metadata": {},
   "source": [
    "Creating a dictionary to keep a label encoding between Airports and numeric values."
   ]
  },
  {
   "cell_type": "code",
   "execution_count": 22,
   "metadata": {},
   "outputs": [],
   "source": [
    "res = {}\n",
    "for key in labels:\n",
    "    for value in indexes:\n",
    "        res[key] = value\n",
    "        indexes.remove(value)\n",
    "        break"
   ]
  },
  {
   "cell_type": "code",
   "execution_count": 23,
   "metadata": {},
   "outputs": [
    {
     "name": "stdout",
     "output_type": "stream",
     "text": [
      "{'ADV': 0, 'ADW': 1, 'ADX': 2, 'ADY': 3, 'ADZ': 4, 'AEA': 5, 'AEB': 6, 'AEC': 7, 'AED': 8, 'AEE': 9, 'AEF': 10, 'AEG': 11, 'AEH': 12, 'AEI': 13, 'AEJ': 14, 'AEK': 15, 'AEL': 16, 'AEM': 17, 'AEN': 18, 'AEO': 19, 'AEP': 20, 'AEQ': 21, 'AER': 22, 'AES': 23, 'AET': 24, 'AEU': 25, 'AEV': 26, 'AEW': 27, 'AEX': 28, 'AEY': 29, 'AEZ': 30, 'AFA': 31, 'AFB': 32, 'AFC': 33, 'AFD': 34, 'AFE': 35, 'AFF': 36, 'AFG': 37, 'AFH': 38, 'AFI': 39, 'AFJ': 40, 'AFK': 41, 'AFL': 42, 'AFM': 43, 'AFN': 44, 'AFO': 45, 'AFP': 46, 'AFQ': 47, 'AFR': 48, 'AFS': 49, 'AFT': 50, 'AFU': 51, 'AFV': 52, 'AFW': 53, 'AFX': 54, 'AFY': 55, 'AFZ': 56, 'AGA': 57, 'AGB': 58, 'AGC': 59, 'AGD': 60, 'AGE': 61, 'AGF': 62, 'AGG': 63, 'AGH': 64, 'AGI': 65, 'AGJ': 66, 'AGK': 67, 'AGL': 68, 'AGM': 69, 'AGN': 70, 'AGO': 71, 'AGP': 72, 'AGQ': 73, 'AGR': 74, 'AGS': 75, 'AGT': 76, 'AGU': 77, 'AGV': 78, 'AGW': 79, 'AGX': 80, 'AGY': 81, 'AGZ': 82, 'AHA': 83, 'AHB': 84, 'AHC': 85, 'AHD': 86, 'AHE': 87, 'AHF': 88, 'AHG': 89, 'AHH': 90, 'AHI': 91, 'AHJ': 92, 'AHK': 93, 'AHL': 94, 'AHM': 95, 'AHN': 96, 'AHO': 97, 'AHP': 98, 'AHQ': 99, 'AHR': 100, 'BOO': 101, 'BOP': 102, 'BOQ': 103, 'BOR': 104, 'BOS': 105, 'BOT': 106, 'BOU': 107, 'BOV': 108, 'BOW': 109, 'BOX': 110, 'BOY': 111, 'BOZ': 112, 'BPA': 113, 'BPB': 114, 'BPC': 115, 'BPD': 116, 'BPE': 117, 'BPF': 118, 'BPG': 119, 'BPH': 120, 'BPI': 121, 'BPJ': 122, 'BPK': 123, 'BPL': 124, 'BPM': 125, 'BPN': 126, 'BPO': 127, 'BPP': 128, 'BPQ': 129, 'BPR': 130, 'BPS': 131, 'BPT': 132, 'BPU': 133, 'BPV': 134, 'BPW': 135, 'BPX': 136, 'BPY': 137, 'BPZ': 138, 'BQA': 139, 'BQB': 140, 'BQC': 141, 'BQD': 142, 'BQE': 143, 'BQF': 144, 'BQG': 145, 'BQH': 146, 'BQI': 147, 'BQJ': 148, 'BQK': 149, 'BQL': 150, 'BQM': 151, 'BQN': 152, 'BQO': 153, 'BQP': 154, 'BQQ': 155, 'BQR': 156, 'BQS': 157, 'BQT': 158, 'BQU': 159, 'BQV': 160, 'BQW': 161, 'BQX': 162, 'BQY': 163, 'BQZ': 164, 'BRA': 165, 'BRB': 166, 'BRC': 167, 'BRD': 168, 'BRE': 169, 'BRF': 170, 'BRG': 171, 'BRH': 172, 'BRI': 173, 'BRJ': 174, 'BRK': 175, 'BRL': 176, 'BRM': 177, 'BRN': 178, 'BRO': 179, 'BRP': 180, 'BRQ': 181, 'BRR': 182, 'BRS': 183, 'BRT': 184, 'BRU': 185, 'BRV': 186, 'BRW': 187, 'BRX': 188, 'BRY': 189, 'BRZ': 190, 'BSA': 191, 'BSB': 192, 'BSC': 193, 'BSD': 194, 'BSE': 195, 'BSF': 196, 'BSG': 197, 'BSH': 198, 'BSI': 199, 'BSJ': 200, 'CIK': 201, 'CIL': 202, 'CIM': 203, 'CIN': 204, 'CIO': 205, 'CIP': 206, 'CIQ': 207, 'CIR': 208, 'CIS': 209, 'CIT': 210, 'CIU': 211, 'CIV': 212, 'CIW': 213, 'CIX': 214, 'CIY': 215, 'CIZ': 216, 'CJA': 217, 'CJB': 218, 'CJC': 219, 'CJD': 220, 'CJE': 221, 'CJF': 222, 'CJG': 223, 'CJH': 224, 'CJI': 225, 'CJJ': 226, 'CJK': 227, 'CJL': 228, 'CJM': 229, 'CJN': 230, 'CJO': 231, 'CJP': 232, 'CJQ': 233, 'CJR': 234, 'CJS': 235, 'CJT': 236, 'CJU': 237, 'CJV': 238, 'CJW': 239, 'CJX': 240, 'CJY': 241, 'CJZ': 242, 'CKA': 243, 'CKB': 244, 'CKC': 245, 'CKD': 246, 'CKE': 247, 'CKF': 248, 'CKG': 249, 'CKH': 250, 'CKI': 251, 'CKJ': 252, 'CKK': 253, 'CKL': 254, 'CKM': 255, 'CKN': 256, 'CKO': 257, 'CKP': 258, 'CKQ': 259, 'CKR': 260, 'CKS': 261, 'CKT': 262, 'CKU': 263, 'CKV': 264, 'CKW': 265, 'CKX': 266, 'CKY': 267, 'CKZ': 268, 'CLA': 269, 'CLB': 270, 'CLC': 271, 'CLD': 272, 'CLE': 273, 'CLF': 274, 'CLG': 275, 'CLH': 276, 'CLI': 277, 'CLJ': 278, 'CLK': 279, 'CLL': 280, 'CLM': 281, 'CLN': 282, 'CLO': 283, 'CLP': 284, 'DBD': 285, 'DBE': 286, 'DBF': 287, 'DBG': 288, 'DBH': 289, 'DBI': 290, 'DBJ': 291, 'DBK': 292, 'DBL': 293, 'DBM': 294, 'DBN': 295, 'DBO': 296, 'DBP': 297, 'DBQ': 298, 'DBR': 299, 'DBS': 300, 'DBT': 301, 'DBU': 302, 'DBV': 303, 'DBW': 304, 'DBX': 305, 'DBY': 306, 'DBZ': 307, 'DCA': 308, 'DCB': 309, 'DCC': 310, 'DCD': 311, 'DCE': 312, 'DCF': 313, 'DCG': 314, 'DCH': 315, 'DCI': 316, 'DCJ': 317, 'DCK': 318, 'DCL': 319, 'DCM': 320, 'DCN': 321, 'DCO': 322, 'DCP': 323, 'DCQ': 324, 'DCR': 325, 'DCS': 326, 'DCT': 327, 'DCU': 328, 'DCV': 329, 'DCW': 330, 'DCX': 331, 'DCY': 332, 'DCZ': 333, 'EAM': 334, 'EAN': 335, 'EAO': 336, 'EAP': 337, 'EAQ': 338, 'EAR': 339, 'EAS': 340, 'EAT': 341, 'EAU': 342, 'EAV': 343, 'EAW': 344, 'EAX': 345, 'EAY': 346, 'EAZ': 347, 'EBA': 348, 'EBB': 349, 'EBC': 350, 'EBD': 351, 'EBE': 352, 'EBF': 353, 'EBG': 354, 'EBH': 355, 'EBI': 356, 'EBJ': 357, 'EBK': 358, 'EBL': 359, 'EBM': 360, 'EBN': 361, 'EBO': 362, 'EBP': 363, 'EBQ': 364, 'EBR': 365, 'EBS': 366, 'EBT': 367, 'EBU': 368, 'EBV': 369, 'EBW': 370, 'EBX': 371, 'EBY': 372, 'EBZ': 373, 'ECA': 374, 'ECB': 375, 'ECC': 376, 'ECD': 377, 'ECE': 378, 'ECF': 379, 'ECG': 380, 'ECH': 381, 'ECI': 382, 'ECJ': 383, 'ECK': 384, 'ECL': 385, 'ECM': 386, 'ECN': 387, 'ECO': 388, 'ECP': 389, 'ECQ': 390, 'ECR': 391, 'ECS': 392, 'ECT': 393, 'ECU': 394, 'ECV': 395, 'ECW': 396, 'ECX': 397, 'ECY': 398, 'ECZ': 399, 'EDA': 400, 'EDB': 401, 'EDC': 402, 'EDD': 403, 'EDE': 404, 'EDF': 405, 'EDG': 406, 'EDH': 407, 'EDI': 408, 'EDJ': 409, 'EDK': 410, 'EDL': 411, 'EDM': 412, 'EDN': 413, 'EDO': 414, 'EDP': 415, 'EDQ': 416, 'EDR': 417, 'EDS': 418, 'EDT': 419, 'EDU': 420, 'EDV': 421, 'EDW': 422, 'EDX': 423, 'EDY': 424, 'EDZ': 425, 'EEA': 426, 'EEB': 427, 'EEC': 428, 'EED': 429, 'EEE': 430, 'EEF': 431, 'EEG': 432, 'EEH': 433, 'EEI': 434, 'EEJ': 435, 'EEK': 436, 'EEL': 437, 'EEM': 438, 'EEN': 439, 'EEO': 440, 'EEP': 441, 'EEQ': 442, 'EER': 443, 'EES': 444, 'EET': 445, 'EEU': 446, 'EEV': 447, 'EEW': 448, 'EEX': 449, 'EEY': 450, 'EEZ': 451, 'EFA': 452, 'EFB': 453, 'EFC': 454, 'EFD': 455, 'EFE': 456, 'EFF': 457, 'EFG': 458, 'EFH': 459, 'EFI': 460, 'EFJ': 461, 'EFK': 462, 'EFL': 463, 'EFM': 464, 'EFN': 465, 'EFO': 466, 'EFP': 467, 'EFQ': 468, 'EFR': 469, 'EFS': 470, 'EFT': 471, 'EFU': 472, 'EFV': 473, 'EFW': 474, 'EFX': 475, 'EFY': 476, 'EFZ': 477, 'EGA': 478, 'EGB': 479, 'EGC': 480, 'EGD': 481, 'EGE': 482, 'EGF': 483, 'EGG': 484, 'EGH': 485, 'EGI': 486, 'FFC': 487, 'FFD': 488, 'FFE': 489, 'FFF': 490, 'FFG': 491, 'FFH': 492, 'FFI': 493, 'FFJ': 494, 'FFK': 495, 'FFL': 496, 'FFM': 497, 'FFN': 498, 'FFO': 499, 'FFP': 500, 'FFQ': 501, 'FFR': 502, 'FFS': 503, 'FFT': 504, 'FFU': 505, 'FFV': 506, 'FFW': 507, 'FFX': 508, 'FFY': 509, 'FFZ': 510, 'FGA': 511, 'FGB': 512, 'FGC': 513, 'FGD': 514, 'FGE': 515, 'FGF': 516, 'FGG': 517, 'FGH': 518, 'FGI': 519, 'FGJ': 520, 'FGK': 521, 'FGL': 522, 'FGM': 523, 'FGN': 524, 'FGO': 525, 'FGP': 526, 'FGQ': 527, 'FGR': 528, 'FGS': 529, 'FGT': 530, 'FGU': 531, 'FGV': 532, 'FGW': 533, 'FGX': 534, 'FGY': 535, 'FGZ': 536, 'FHA': 537, 'FHB': 538, 'FHC': 539, 'FHD': 540, 'FHE': 541, 'FHF': 542, 'FHG': 543, 'FHH': 544, 'FHI': 545, 'FHJ': 546, 'FHK': 547, 'GMB': 548, 'GMC': 549, 'GMD': 550, 'GME': 551, 'GMF': 552, 'GMG': 553, 'GMH': 554, 'GMI': 555, 'GMJ': 556, 'GMK': 557, 'GML': 558, 'GMM': 559, 'GMN': 560, 'GMO': 561, 'GMP': 562, 'GMQ': 563, 'GMR': 564, 'GMS': 565, 'GMT': 566, 'GMU': 567, 'GMV': 568, 'GMW': 569, 'GMX': 570, 'GMY': 571, 'GMZ': 572, 'GNA': 573, 'GNB': 574, 'GNC': 575, 'GND': 576, 'GNE': 577, 'GNF': 578, 'GNG': 579, 'GNH': 580, 'GNI': 581, 'GNJ': 582, 'GNK': 583, 'GNL': 584, 'GNM': 585, 'GNN': 586, 'GNO': 587, 'GNP': 588, 'GNQ': 589, 'GNR': 590, 'GNS': 591, 'GNT': 592, 'GNU': 593, 'GNV': 594, 'GNW': 595, 'GNX': 596, 'GNY': 597, 'GNZ': 598, 'GOA': 599, 'GOB': 600, 'GOC': 601, 'GOD': 602, 'GOE': 603, 'GOF': 604, 'GOG': 605, 'GOH': 606, 'GOI': 607, 'GOJ': 608, 'GOK': 609, 'GOL': 610, 'GOM': 611, 'GON': 612, 'GOO': 613, 'GOP': 614, 'GOQ': 615, 'GOR': 616, 'GOS': 617, 'GOT': 618, 'GOU': 619, 'GOV': 620, 'GOW': 621, 'GOX': 622, 'GOY': 623, 'GOZ': 624, 'GPA': 625, 'GPB': 626, 'GPC': 627, 'GPD': 628, 'GPE': 629, 'GPF': 630, 'GPG': 631, 'GPH': 632, 'GPI': 633, 'GPJ': 634, 'GPK': 635, 'GPL': 636, 'GPM': 637, 'GPN': 638, 'GPO': 639, 'GPP': 640, 'GPQ': 641, 'GPR': 642, 'GPS': 643, 'GPT': 644, 'GPU': 645, 'GPV': 646, 'GPW': 647, 'GPX': 648, 'GPY': 649, 'GPZ': 650, 'GQA': 651, 'GQB': 652, 'GQC': 653, 'GQD': 654, 'GQE': 655, 'GQF': 656, 'GQG': 657, 'GQH': 658, 'GQI': 659, 'GQJ': 660, 'GQK': 661, 'GQL': 662, 'GQM': 663, 'GQN': 664, 'GQO': 665, 'GQP': 666, 'GQQ': 667, 'GQR': 668, 'GQS': 669, 'GQT': 670, 'GQU': 671, 'GQV': 672, 'GQW': 673, 'GQX': 674, 'GQY': 675, 'GQZ': 676, 'GRA': 677, 'GRB': 678, 'GRC': 679, 'GRD': 680, 'GRE': 681, 'GRF': 682, 'GRG': 683, 'GRH': 684, 'GRI': 685, 'GRJ': 686, 'GRK': 687, 'GRL': 688, 'GRM': 689, 'GRN': 690, 'GRO': 691, 'GRP': 692, 'GRQ': 693, 'GRR': 694, 'GRS': 695, 'GRT': 696, 'GRU': 697, 'GRV': 698, 'GRW': 699, 'GRX': 700, 'GRY': 701, 'GRZ': 702, 'GSA': 703, 'GSB': 704, 'GSC': 705, 'GSD': 706, 'GSE': 707, 'GSF': 708, 'GSG': 709, 'GSH': 710, 'GSI': 711, 'GSJ': 712, 'GSK': 713, 'GSL': 714, 'GSM': 715, 'GSN': 716, 'GSO': 717, 'GSP': 718, 'GSQ': 719, 'GSR': 720, 'GSS': 721, 'GST': 722, 'GSU': 723, 'GSV': 724, 'GSW': 725, 'GSX': 726, 'GSY': 727, 'GSZ': 728, 'GTA': 729, 'GTB': 730, 'GTC': 731, 'GTD': 732, 'GTE': 733, 'GTF': 734, 'GTG': 735, 'GTH': 736, 'GTI': 737, 'GTJ': 738, 'GTK': 739, 'GTL': 740, 'GTM': 741, 'GTN': 742, 'GTO': 743, 'GTP': 744, 'GTQ': 745, 'GTR': 746, 'GTS': 747, 'GTT': 748, 'GTU': 749, 'GTV': 750, 'GTW': 751, 'GTX': 752, 'GTY': 753, 'GTZ': 754, 'GUA': 755, 'HBR': 756, 'HBS': 757, 'HBT': 758, 'HBU': 759, 'HBV': 760, 'HBW': 761, 'HBX': 762, 'HBY': 763, 'HBZ': 764, 'HCA': 765, 'HCB': 766, 'HCC': 767, 'HCD': 768, 'HCE': 769, 'HCF': 770, 'HCG': 771, 'HCH': 772, 'HCI': 773, 'HCJ': 774, 'HCK': 775, 'HCL': 776, 'HCM': 777, 'HCN': 778, 'HCO': 779, 'HCP': 780, 'HCQ': 781, 'HCR': 782, 'HCS': 783, 'HCT': 784, 'HCU': 785, 'HCV': 786, 'HCW': 787, 'HCX': 788, 'HCY': 789, 'HCZ': 790, 'HDA': 791, 'HDB': 792, 'HDC': 793, 'HDD': 794, 'HDE': 795, 'HDF': 796, 'HDG': 797, 'HDH': 798, 'HDI': 799, 'HDJ': 800, 'HDK': 801, 'HDL': 802, 'HDM': 803, 'HDN': 804, 'HDO': 805, 'HDP': 806, 'HDQ': 807, 'HDR': 808, 'HDS': 809, 'HDT': 810, 'HDU': 811, 'HDV': 812, 'HDW': 813, 'HDX': 814, 'HDY': 815, 'HDZ': 816, 'HEA': 817, 'HEB': 818, 'IFY': 819, 'IFZ': 820, 'IGA': 821, 'IGB': 822, 'IGC': 823, 'IGD': 824, 'IGE': 825, 'IGF': 826, 'IGG': 827, 'IGH': 828, 'IGI': 829, 'IGJ': 830, 'IGK': 831, 'IGL': 832, 'IGM': 833, 'IGN': 834, 'IGO': 835, 'IGP': 836, 'IGQ': 837, 'IGR': 838, 'IGS': 839, 'IGT': 840, 'IGU': 841, 'IGV': 842, 'IGW': 843, 'IGX': 844, 'IGY': 845, 'IGZ': 846, 'IHA': 847, 'IHB': 848, 'IHC': 849, 'IHD': 850, 'IHE': 851, 'IHF': 852, 'IHG': 853, 'IHH': 854, 'IHI': 855, 'IHJ': 856, 'IHK': 857, 'IHL': 858, 'IHM': 859, 'IHN': 860, 'IHO': 861, 'IHP': 862, 'IHQ': 863, 'IHR': 864, 'IHS': 865, 'IHT': 866, 'IHU': 867, 'IHV': 868, 'IHW': 869, 'IHX': 870, 'IHY': 871, 'IHZ': 872, 'IIA': 873, 'IIB': 874, 'IIC': 875, 'IID': 876, 'IIE': 877, 'IIF': 878, 'IIG': 879, 'IIH': 880, 'III': 881, 'IIJ': 882, 'IIK': 883, 'IIL': 884, 'IIM': 885, 'IIN': 886, 'IIO': 887, 'IIP': 888, 'IIQ': 889, 'IIR': 890, 'IIS': 891, 'IIT': 892, 'IIU': 893, 'IIV': 894, 'IIW': 895, 'IIX': 896, 'IIY': 897, 'JCB': 898, 'JCC': 899, 'JCD': 900, 'JCE': 901, 'JCF': 902, 'JCG': 903, 'JCH': 904, 'JCI': 905, 'JCJ': 906, 'JCK': 907, 'JCL': 908, 'JCM': 909, 'JCN': 910, 'JCO': 911, 'JCP': 912, 'JCQ': 913, 'JCR': 914, 'JCS': 915, 'JCT': 916, 'JCU': 917, 'JCV': 918, 'JCW': 919, 'JCX': 920, 'JCY': 921, 'JCZ': 922, 'JDA': 923, 'JDB': 924, 'JDC': 925, 'JDD': 926, 'JDE': 927, 'JDF': 928, 'JDG': 929, 'JDH': 930, 'JDI': 931, 'JDJ': 932, 'JDK': 933, 'JDL': 934, 'JDM': 935, 'JDN': 936, 'JDO': 937, 'JDP': 938, 'JDQ': 939, 'JDR': 940, 'JDS': 941, 'JDT': 942, 'JDU': 943, 'JDV': 944, 'JDW': 945, 'JDX': 946, 'JDY': 947, 'JDZ': 948, 'JEA': 949, 'JEB': 950, 'JEC': 951, 'JED': 952, 'JEE': 953, 'JEF': 954, 'JEG': 955, 'JEH': 956, 'JEI': 957, 'JEJ': 958, 'JEK': 959, 'JEL': 960, 'JEM': 961, 'JEN': 962, 'JEO': 963, 'JEP': 964, 'JEQ': 965, 'JER': 966, 'JES': 967, 'JET': 968, 'JEU': 969, 'JEV': 970, 'JEW': 971, 'JEX': 972, 'JEY': 973, 'JEZ': 974, 'JFA': 975, 'JFB': 976, 'JFC': 977, 'JFD': 978, 'JFE': 979, 'JFF': 980, 'JFG': 981, 'JFH': 982, 'JFI': 983, 'JFJ': 984, 'JFK': 985, 'JFL': 986, 'JFM': 987, 'JFN': 988, 'JFO': 989, 'JFP': 990, 'JFQ': 991, 'JFR': 992, 'JFS': 993, 'JFT': 994, 'JFU': 995, 'JFV': 996, 'JFW': 997, 'JFX': 998, 'JFY': 999, 'JFZ': 1000, 'JGA': 1001, 'JGB': 1002, 'JGC': 1003, 'JGD': 1004, 'JGE': 1005, 'JGF': 1006, 'JGG': 1007, 'JGH': 1008, 'JGI': 1009, 'JGJ': 1010, 'JGK': 1011, 'JGL': 1012, 'JGM': 1013, 'JGN': 1014, 'JGO': 1015, 'JGP': 1016, 'JGQ': 1017, 'JGR': 1018, 'JGS': 1019, 'JGT': 1020, 'JGU': 1021, 'JGV': 1022, 'JGW': 1023, 'JGX': 1024, 'JGY': 1025, 'JGZ': 1026, 'JHA': 1027, 'JHB': 1028, 'JHC': 1029, 'JHD': 1030, 'JHE': 1031, 'JHF': 1032, 'JHG': 1033, 'JHH': 1034, 'JHI': 1035, 'JHJ': 1036, 'JHK': 1037, 'JHL': 1038, 'JHM': 1039, 'JHN': 1040, 'JHO': 1041, 'JHP': 1042, 'JHQ': 1043, 'JHR': 1044, 'JHS': 1045, 'JHT': 1046, 'JHU': 1047, 'JHV': 1048, 'JHW': 1049, 'JHX': 1050, 'JHY': 1051, 'KBM': 1052, 'KBN': 1053, 'KBO': 1054, 'KBP': 1055, 'KBQ': 1056, 'KBR': 1057, 'KBS': 1058, 'KBT': 1059, 'KBU': 1060, 'KBV': 1061, 'KBW': 1062, 'KBX': 1063, 'KBY': 1064, 'KBZ': 1065, 'KCA': 1066, 'KCB': 1067, 'KCC': 1068, 'KCD': 1069, 'KCE': 1070, 'KCF': 1071, 'KCG': 1072, 'KCH': 1073, 'KCI': 1074, 'KCJ': 1075, 'KCK': 1076, 'KCL': 1077, 'KCM': 1078, 'KCN': 1079, 'KCO': 1080, 'KCP': 1081, 'KCQ': 1082, 'KCR': 1083, 'KCS': 1084, 'KCT': 1085, 'KCU': 1086, 'KCV': 1087, 'KCW': 1088, 'KCX': 1089, 'KCY': 1090, 'KCZ': 1091, 'KDA': 1092, 'KDB': 1093, 'KDC': 1094, 'KDD': 1095, 'KDE': 1096, 'KDF': 1097, 'KDG': 1098, 'KDH': 1099, 'KDI': 1100, 'KDJ': 1101, 'KDK': 1102, 'KDL': 1103, 'KDM': 1104, 'KDN': 1105, 'KDO': 1106, 'KDP': 1107, 'KDQ': 1108, 'KDR': 1109, 'KDS': 1110, 'KDT': 1111, 'KDU': 1112, 'KDV': 1113, 'KDW': 1114, 'KDX': 1115, 'KDY': 1116, 'KDZ': 1117, 'KEA': 1118, 'KEB': 1119, 'KEC': 1120, 'KED': 1121, 'KEE': 1122, 'KEF': 1123, 'KEG': 1124, 'KEH': 1125, 'KEI': 1126, 'KEJ': 1127, 'KEK': 1128, 'KEL': 1129, 'KEM': 1130, 'KEN': 1131, 'KEO': 1132, 'KEP': 1133, 'KEQ': 1134, 'LYC': 1135, 'LYD': 1136, 'LYE': 1137, 'LYF': 1138, 'LYG': 1139, 'LYH': 1140, 'LYI': 1141, 'LYJ': 1142, 'LYK': 1143, 'LYL': 1144, 'LYM': 1145, 'LYN': 1146, 'LYO': 1147, 'LYP': 1148, 'LYQ': 1149, 'LYR': 1150, 'LYS': 1151, 'LYT': 1152, 'LYU': 1153, 'LYV': 1154, 'LYW': 1155, 'LYX': 1156, 'LYY': 1157, 'LYZ': 1158, 'LZA': 1159, 'LZB': 1160, 'LZC': 1161, 'LZD': 1162, 'LZE': 1163, 'LZF': 1164, 'LZG': 1165, 'LZH': 1166, 'LZI': 1167, 'LZJ': 1168, 'LZK': 1169, 'LZL': 1170, 'LZM': 1171, 'LZN': 1172, 'LZO': 1173, 'LZP': 1174, 'LZQ': 1175, 'LZR': 1176, 'LZS': 1177, 'LZT': 1178, 'LZU': 1179, 'LZV': 1180, 'LZW': 1181, 'LZX': 1182, 'LZY': 1183, 'LZZ': 1184, 'MAA': 1185, 'MAB': 1186, 'MAC': 1187, 'MAD': 1188, 'MAE': 1189, 'MAF': 1190, 'MAG': 1191, 'MAH': 1192, 'MAI': 1193, 'MAJ': 1194, 'MAK': 1195, 'MAL': 1196, 'MAM': 1197, 'MAN': 1198, 'MAO': 1199, 'MAP': 1200, 'MAQ': 1201, 'MAR': 1202, 'MAS': 1203, 'MAT': 1204, 'MAU': 1205, 'MAV': 1206, 'MAW': 1207, 'MAX': 1208, 'MAY': 1209, 'MAZ': 1210, 'MBA': 1211, 'MBB': 1212, 'MBC': 1213, 'MBD': 1214, 'MBE': 1215, 'MBF': 1216, 'NIW': 1217, 'NIX': 1218, 'NIY': 1219, 'NIZ': 1220, 'NJA': 1221, 'NJB': 1222, 'NJC': 1223, 'NJD': 1224, 'NJE': 1225, 'NJF': 1226, 'NJG': 1227, 'NJH': 1228, 'NJI': 1229, 'NJJ': 1230, 'NJK': 1231, 'NJL': 1232, 'NJM': 1233, 'NJN': 1234, 'NJO': 1235, 'NJP': 1236, 'NJQ': 1237, 'NJR': 1238, 'NJS': 1239, 'NJT': 1240, 'NJU': 1241, 'NJV': 1242, 'NJW': 1243, 'NJX': 1244, 'NJY': 1245, 'NJZ': 1246, 'NKA': 1247, 'NKB': 1248, 'NKC': 1249, 'NKD': 1250, 'NKE': 1251, 'NKF': 1252, 'NKG': 1253, 'NKH': 1254, 'NKI': 1255, 'NKJ': 1256, 'NKK': 1257, 'NKL': 1258, 'NKM': 1259, 'NKN': 1260, 'NKO': 1261, 'NKP': 1262, 'NKQ': 1263, 'NKR': 1264, 'NKS': 1265, 'NKT': 1266, 'NKU': 1267, 'NKV': 1268, 'NKW': 1269, 'NKX': 1270, 'NKY': 1271, 'NKZ': 1272, 'NLA': 1273, 'NLB': 1274, 'NLC': 1275, 'NLD': 1276, 'NLE': 1277, 'NLF': 1278, 'NLG': 1279, 'NLH': 1280, 'NLI': 1281, 'NLJ': 1282, 'NLK': 1283, 'NLL': 1284, 'NLM': 1285, 'NLN': 1286, 'NLO': 1287, 'NLP': 1288, 'NLQ': 1289, 'NLR': 1290, 'NLS': 1291, 'NLT': 1292, 'NLU': 1293, 'NLV': 1294, 'NLW': 1295, 'NLX': 1296, 'NLY': 1297, 'NLZ': 1298, 'NMA': 1299, 'NMB': 1300, 'NMC': 1301, 'NMD': 1302, 'NME': 1303, 'NMF': 1304, 'NMG': 1305, 'NMH': 1306, 'NMI': 1307, 'NMJ': 1308, 'OXV': 1309, 'OXW': 1310, 'OXX': 1311, 'OXY': 1312, 'OXZ': 1313, 'OYA': 1314, 'OYB': 1315, 'OYC': 1316, 'OYD': 1317, 'OYE': 1318, 'OYF': 1319, 'OYG': 1320, 'OYH': 1321, 'OYI': 1322, 'OYJ': 1323, 'OYK': 1324, 'OYL': 1325, 'OYM': 1326, 'OYN': 1327, 'OYO': 1328, 'OYP': 1329, 'OYQ': 1330, 'OYR': 1331, 'OYS': 1332, 'OYT': 1333, 'OYU': 1334, 'OYV': 1335, 'OYW': 1336, 'OYX': 1337, 'OYY': 1338, 'OYZ': 1339, 'OZA': 1340, 'OZB': 1341, 'OZC': 1342, 'OZD': 1343, 'OZE': 1344, 'OZF': 1345, 'OZG': 1346, 'OZH': 1347, 'OZI': 1348, 'OZJ': 1349, 'OZK': 1350, 'OZL': 1351, 'OZM': 1352, 'OZN': 1353, 'OZO': 1354, 'OZP': 1355, 'OZQ': 1356, 'OZR': 1357, 'OZS': 1358, 'OZT': 1359, 'OZU': 1360, 'OZV': 1361, 'OZW': 1362, 'OZX': 1363, 'OZY': 1364, 'OZZ': 1365, 'PAA': 1366, 'PAB': 1367, 'PAC': 1368, 'PAD': 1369, 'PAE': 1370, 'PAF': 1371, 'PAG': 1372, 'PAH': 1373, 'PAI': 1374, 'PAJ': 1375, 'PAK': 1376, 'PAL': 1377, 'PAM': 1378, 'PAN': 1379, 'PAO': 1380, 'PAP': 1381, 'PAQ': 1382, 'PAR': 1383, 'PAS': 1384, 'PAT': 1385, 'PAU': 1386, 'PAV': 1387, 'PAW': 1388, 'PAX': 1389, 'PAY': 1390, 'PAZ': 1391, 'PBA': 1392, 'PBB': 1393, 'PBC': 1394, 'PBD': 1395, 'PBE': 1396, 'PBF': 1397, 'PBG': 1398, 'PBH': 1399, 'PBI': 1400, 'PBJ': 1401, 'PBK': 1402, 'PBL': 1403, 'PBM': 1404, 'PBN': 1405, 'PBO': 1406, 'PBP': 1407, 'PBQ': 1408, 'PBR': 1409, 'PBS': 1410, 'PBT': 1411, 'PBU': 1412, 'PBV': 1413, 'PBW': 1414, 'PBX': 1415, 'PBY': 1416, 'PBZ': 1417, 'PCA': 1418, 'PCB': 1419, 'PCC': 1420, 'PCD': 1421, 'PCE': 1422, 'PCF': 1423, 'PCG': 1424, 'PCH': 1425, 'PCI': 1426, 'PCJ': 1427, 'PCK': 1428, 'PCL': 1429, 'PCM': 1430, 'PCN': 1431, 'PCO': 1432, 'PCP': 1433, 'PCQ': 1434, 'PCR': 1435, 'QAW': 1436, 'QAX': 1437, 'QAY': 1438, 'QAZ': 1439, 'QBA': 1440, 'QBB': 1441, 'QBC': 1442, 'QBD': 1443, 'QBE': 1444, 'QBF': 1445, 'QBG': 1446, 'QBH': 1447, 'QBI': 1448, 'QBJ': 1449, 'QBK': 1450, 'QBL': 1451, 'QBM': 1452, 'QBN': 1453, 'QBO': 1454, 'QBP': 1455, 'QBQ': 1456, 'QBR': 1457, 'QBS': 1458, 'QBT': 1459, 'QBU': 1460, 'QBV': 1461, 'QBW': 1462, 'QBX': 1463, 'QBY': 1464, 'QBZ': 1465, 'QCA': 1466, 'QCB': 1467, 'QCC': 1468, 'QCD': 1469, 'QCE': 1470, 'QCF': 1471, 'QCG': 1472, 'QCH': 1473, 'QCI': 1474, 'QCJ': 1475, 'QCK': 1476, 'QCL': 1477, 'QCM': 1478, 'QCN': 1479, 'QCO': 1480, 'QCP': 1481, 'QCQ': 1482, 'QCR': 1483, 'QCS': 1484, 'QCT': 1485, 'QCU': 1486, 'QCV': 1487, 'QCW': 1488, 'QCX': 1489, 'QCY': 1490, 'QCZ': 1491, 'QDA': 1492, 'QDB': 1493, 'QDC': 1494, 'QDD': 1495, 'QDE': 1496, 'QDF': 1497, 'QDG': 1498, 'QDH': 1499, 'QDI': 1500, 'QDJ': 1501, 'QDK': 1502, 'QDL': 1503, 'QDM': 1504, 'QDN': 1505, 'QDO': 1506, 'QDP': 1507, 'QDQ': 1508, 'QDR': 1509, 'QDS': 1510, 'QDT': 1511, 'QDU': 1512, 'QDV': 1513, 'QDW': 1514, 'QDX': 1515, 'QDY': 1516, 'QDZ': 1517, 'QEA': 1518, 'QEB': 1519, 'QEC': 1520, 'QED': 1521, 'QEE': 1522, 'QEF': 1523, 'QEG': 1524, 'RSB': 1525, 'RSC': 1526, 'RSD': 1527, 'RSE': 1528, 'RSF': 1529, 'RSG': 1530, 'RSH': 1531, 'RSI': 1532, 'RSJ': 1533, 'RSK': 1534, 'RSL': 1535, 'RSM': 1536, 'RSN': 1537, 'RSO': 1538, 'RSP': 1539, 'RSQ': 1540, 'RSR': 1541, 'RSS': 1542, 'RST': 1543, 'RSU': 1544, 'RSV': 1545, 'RSW': 1546, 'RSX': 1547, 'RSY': 1548, 'RSZ': 1549, 'RTA': 1550, 'RTB': 1551, 'RTC': 1552, 'RTD': 1553, 'RTE': 1554, 'RTF': 1555, 'RTG': 1556, 'RTH': 1557, 'RTI': 1558, 'RTJ': 1559, 'RTK': 1560, 'RTL': 1561, 'RTM': 1562, 'RTN': 1563, 'RTO': 1564, 'RTP': 1565, 'RTQ': 1566, 'RTR': 1567, 'RTS': 1568, 'RTT': 1569, 'RTU': 1570, 'RTV': 1571, 'RTW': 1572, 'RTX': 1573, 'RTY': 1574, 'RTZ': 1575, 'RUA': 1576, 'RUB': 1577, 'RUC': 1578, 'RUD': 1579, 'RUE': 1580, 'RUF': 1581, 'RUG': 1582, 'RUH': 1583, 'RUI': 1584, 'RUJ': 1585, 'RUK': 1586, 'RUL': 1587, 'RUM': 1588, 'RUN': 1589, 'RUO': 1590, 'RUP': 1591, 'RUQ': 1592, 'RUR': 1593, 'RUS': 1594, 'RUT': 1595, 'RUU': 1596, 'RUV': 1597, 'RUW': 1598, 'RUX': 1599, 'RUY': 1600, 'RUZ': 1601, 'RVA': 1602, 'RVB': 1603, 'RVC': 1604, 'RVD': 1605, 'RVE': 1606, 'RVF': 1607, 'RVG': 1608, 'RVH': 1609, 'RVI': 1610, 'RVJ': 1611, 'RVK': 1612, 'RVL': 1613, 'RVM': 1614, 'RVN': 1615, 'RVO': 1616, 'RVP': 1617, 'RVQ': 1618, 'RVR': 1619, 'RVS': 1620, 'RVT': 1621, 'RVU': 1622, 'RVV': 1623, 'RVW': 1624, 'RVX': 1625, 'RVY': 1626, 'RVZ': 1627, 'RWA': 1628, 'RWB': 1629, 'RWC': 1630, 'RWD': 1631, 'RWE': 1632, 'RWF': 1633, 'RWG': 1634, 'RWH': 1635, 'RWI': 1636, 'RWJ': 1637, 'RWK': 1638, 'RWL': 1639, 'RWM': 1640, 'RWN': 1641, 'RWO': 1642, 'RWP': 1643, 'RWQ': 1644, 'RWR': 1645, 'RWS': 1646, 'RWT': 1647, 'RWU': 1648, 'RWV': 1649, 'RWW': 1650, 'RWX': 1651, 'RWY': 1652, 'RWZ': 1653, 'RXA': 1654, 'RXB': 1655, 'RXC': 1656, 'RXD': 1657, 'RXE': 1658, 'RXF': 1659, 'RXG': 1660, 'RXH': 1661, 'RXI': 1662, 'RXJ': 1663, 'RXK': 1664, 'RXL': 1665, 'RXM': 1666, 'RXN': 1667, 'RXO': 1668, 'RXP': 1669, 'RXQ': 1670, 'RXR': 1671, 'RXS': 1672, 'RXT': 1673, 'RXU': 1674, 'RXV': 1675, 'RXW': 1676, 'RXX': 1677, 'RXY': 1678, 'RXZ': 1679, 'RYA': 1680, 'RYB': 1681, 'RYC': 1682, 'RYD': 1683, 'RYE': 1684, 'RYF': 1685, 'RYG': 1686, 'RYH': 1687, 'RYI': 1688, 'RYJ': 1689, 'RYK': 1690, 'RYL': 1691, 'RYM': 1692, 'RYN': 1693, 'RYO': 1694, 'RYP': 1695, 'RYQ': 1696, 'RYR': 1697, 'RYS': 1698, 'RYT': 1699, 'RYU': 1700, 'RYV': 1701, 'RYW': 1702, 'RYX': 1703, 'RYY': 1704, 'RYZ': 1705, 'RZA': 1706, 'RZB': 1707, 'RZC': 1708, 'RZD': 1709, 'RZE': 1710, 'RZF': 1711, 'RZG': 1712, 'RZH': 1713, 'RZI': 1714, 'RZJ': 1715, 'RZK': 1716, 'RZL': 1717, 'RZM': 1718, 'RZN': 1719, 'RZO': 1720, 'RZP': 1721, 'RZQ': 1722, 'RZR': 1723, 'RZS': 1724, 'RZT': 1725, 'RZU': 1726, 'RZV': 1727, 'RZW': 1728, 'RZX': 1729, 'RZY': 1730, 'RZZ': 1731, 'SAA': 1732, 'SAB': 1733, 'SAC': 1734, 'SAD': 1735, 'SAE': 1736, 'SAF': 1737, 'SAG': 1738, 'SAH': 1739, 'SAI': 1740, 'SAJ': 1741, 'SAK': 1742, 'SAL': 1743, 'SAM': 1744, 'SAN': 1745, 'SAO': 1746, 'SAP': 1747, 'SAQ': 1748, 'SAR': 1749, 'SAS': 1750, 'SAT': 1751, 'SAU': 1752, 'SAV': 1753, 'SAW': 1754, 'SAX': 1755, 'SAY': 1756, 'SAZ': 1757, 'SBA': 1758, 'SBB': 1759, 'SBC': 1760, 'SBD': 1761, 'SBE': 1762, 'SBF': 1763, 'SBG': 1764, 'SBH': 1765, 'SBI': 1766, 'SBJ': 1767, 'SBK': 1768, 'SBL': 1769, 'SBM': 1770, 'SBN': 1771, 'SBO': 1772, 'TFP': 1773, 'TFQ': 1774, 'TFR': 1775, 'TFS': 1776, 'TFT': 1777, 'TFU': 1778, 'TFV': 1779, 'TFW': 1780, 'TFX': 1781, 'TFY': 1782, 'TFZ': 1783, 'TGA': 1784, 'TGB': 1785, 'TGC': 1786, 'TGD': 1787, 'TGE': 1788, 'TGF': 1789, 'TGG': 1790, 'TGH': 1791, 'TGI': 1792, 'TGJ': 1793, 'TGK': 1794, 'TGL': 1795, 'TGM': 1796, 'TGN': 1797, 'TGO': 1798, 'TGP': 1799, 'TGQ': 1800, 'TGR': 1801, 'TGS': 1802, 'TGT': 1803, 'TGU': 1804, 'TGV': 1805, 'TGW': 1806, 'TGX': 1807, 'TGY': 1808, 'TGZ': 1809, 'THA': 1810, 'THB': 1811, 'THC': 1812, 'THD': 1813, 'THE': 1814, 'THF': 1815, 'THG': 1816, 'THH': 1817, 'THI': 1818, 'THJ': 1819, 'THK': 1820, 'THL': 1821, 'THM': 1822, 'THN': 1823, 'THO': 1824, 'THP': 1825, 'THQ': 1826, 'THR': 1827, 'THS': 1828, 'THT': 1829, 'THU': 1830, 'THV': 1831, 'THW': 1832, 'THX': 1833, 'THY': 1834, 'THZ': 1835, 'TIA': 1836, 'TIB': 1837, 'TIC': 1838, 'TID': 1839, 'TIE': 1840, 'TIF': 1841, 'TIG': 1842, 'TIH': 1843, 'TII': 1844, 'TIJ': 1845, 'TIK': 1846, 'TIL': 1847, 'TIM': 1848, 'TIN': 1849, 'TIO': 1850, 'TIP': 1851, 'TIQ': 1852, 'TIR': 1853, 'TIS': 1854, 'TIT': 1855, 'TIU': 1856, 'TIV': 1857, 'TIW': 1858, 'TIX': 1859, 'TIY': 1860, 'TIZ': 1861, 'TJA': 1862, 'TJB': 1863, 'TJC': 1864, 'TJD': 1865, 'TJE': 1866, 'TJF': 1867, 'TJG': 1868, 'TJH': 1869, 'TJI': 1870, 'TJJ': 1871, 'UTC': 1872, 'UTD': 1873, 'UTE': 1874, 'UTF': 1875, 'UTG': 1876, 'UTH': 1877, 'UTI': 1878, 'UTJ': 1879, 'UTK': 1880, 'UTL': 1881, 'UTM': 1882, 'UTN': 1883, 'UTO': 1884, 'UTP': 1885, 'UTQ': 1886, 'UTR': 1887, 'UTS': 1888, 'UTT': 1889, 'UTU': 1890, 'UTV': 1891, 'UTW': 1892, 'UTX': 1893, 'UTY': 1894, 'UTZ': 1895, 'UUA': 1896, 'UUB': 1897, 'UUC': 1898, 'UUD': 1899, 'UUE': 1900, 'UUF': 1901, 'UUG': 1902, 'UUH': 1903, 'UUI': 1904, 'UUJ': 1905, 'UUK': 1906, 'UUL': 1907, 'UUM': 1908, 'UUN': 1909, 'UUO': 1910, 'UUP': 1911, 'UUQ': 1912, 'UUR': 1913, 'UUS': 1914, 'UUT': 1915, 'UUU': 1916, 'UUV': 1917, 'UUW': 1918, 'UUX': 1919, 'UUY': 1920, 'UUZ': 1921, 'UVA': 1922, 'UVB': 1923, 'UVC': 1924, 'UVD': 1925, 'UVE': 1926, 'UVF': 1927, 'UVG': 1928, 'UVH': 1929, 'UVI': 1930, 'UVJ': 1931, 'UVK': 1932, 'UVL': 1933, 'UVM': 1934, 'UVN': 1935, 'UVO': 1936, 'UVP': 1937, 'UVQ': 1938, 'UWD': 1939, 'UWE': 1940, 'UWF': 1941, 'UWG': 1942, 'UWH': 1943, 'UWI': 1944, 'UWJ': 1945, 'UWK': 1946, 'UWL': 1947, 'UWM': 1948, 'UWN': 1949, 'UWO': 1950, 'UWP': 1951, 'UWQ': 1952, 'UWR': 1953, 'UWS': 1954, 'UWT': 1955, 'UWU': 1956, 'UWV': 1957, 'UWW': 1958, 'UWX': 1959, 'UWY': 1960, 'UWZ': 1961, 'UXA': 1962, 'UXB': 1963, 'UXC': 1964, 'UXD': 1965, 'UXE': 1966, 'UXF': 1967, 'UXG': 1968, 'UXH': 1969, 'VBL': 1970, 'VBM': 1971, 'VBN': 1972, 'VBQ': 1973, 'VBR': 1974, 'VBS': 1975, 'VBT': 1976, 'VBU': 1977, 'VBV': 1978, 'VBW': 1979, 'VBX': 1980, 'VBY': 1981, 'VBZ': 1982, 'VCA': 1983, 'VCB': 1984, 'VCC': 1985, 'VCD': 1986, 'VCE': 1987, 'VCF': 1988, 'VCG': 1989, 'VCH': 1990, 'VCI': 1991, 'VCJ': 1992, 'VCK': 1993, 'VCL': 1994, 'VCM': 1995, 'VCN': 1996, 'VCO': 1997, 'VCP': 1998, 'VCQ': 1999}\n"
     ]
    }
   ],
   "source": [
    "print(res)"
   ]
  },
  {
   "cell_type": "markdown",
   "metadata": {},
   "source": [
    "# Applying the Algorithm Upon the Test Dataset"
   ]
  },
  {
   "cell_type": "code",
   "execution_count": 24,
   "metadata": {},
   "outputs": [],
   "source": [
    "test_dataset = pd.read_csv('testdata.csv')"
   ]
  },
  {
   "cell_type": "code",
   "execution_count": 25,
   "metadata": {},
   "outputs": [
    {
     "data": {
      "text/html": [
       "<div>\n",
       "<style scoped>\n",
       "    .dataframe tbody tr th:only-of-type {\n",
       "        vertical-align: middle;\n",
       "    }\n",
       "\n",
       "    .dataframe tbody tr th {\n",
       "        vertical-align: top;\n",
       "    }\n",
       "\n",
       "    .dataframe thead th {\n",
       "        text-align: right;\n",
       "    }\n",
       "</style>\n",
       "<table border=\"1\" class=\"dataframe\">\n",
       "  <thead>\n",
       "    <tr style=\"text-align: right;\">\n",
       "      <th></th>\n",
       "      <th>PairID</th>\n",
       "      <th>SourceAirportID</th>\n",
       "      <th>DestinationAirportID</th>\n",
       "    </tr>\n",
       "  </thead>\n",
       "  <tbody>\n",
       "    <tr>\n",
       "      <td>0</td>\n",
       "      <td>1804289391</td>\n",
       "      <td>ADW</td>\n",
       "      <td>ADV</td>\n",
       "    </tr>\n",
       "    <tr>\n",
       "      <td>1</td>\n",
       "      <td>1804289397</td>\n",
       "      <td>ADX</td>\n",
       "      <td>ADV</td>\n",
       "    </tr>\n",
       "    <tr>\n",
       "      <td>2</td>\n",
       "      <td>1804289400</td>\n",
       "      <td>ADY</td>\n",
       "      <td>ADV</td>\n",
       "    </tr>\n",
       "    <tr>\n",
       "      <td>3</td>\n",
       "      <td>1804289403</td>\n",
       "      <td>ADZ</td>\n",
       "      <td>ADV</td>\n",
       "    </tr>\n",
       "    <tr>\n",
       "      <td>4</td>\n",
       "      <td>1804289410</td>\n",
       "      <td>AEA</td>\n",
       "      <td>ADV</td>\n",
       "    </tr>\n",
       "  </tbody>\n",
       "</table>\n",
       "</div>"
      ],
      "text/plain": [
       "       PairID SourceAirportID DestinationAirportID\n",
       "0  1804289391             ADW                  ADV\n",
       "1  1804289397             ADX                  ADV\n",
       "2  1804289400             ADY                  ADV\n",
       "3  1804289403             ADZ                  ADV\n",
       "4  1804289410             AEA                  ADV"
      ]
     },
     "execution_count": 25,
     "metadata": {},
     "output_type": "execute_result"
    }
   ],
   "source": [
    "test_dataset.head()"
   ]
  },
  {
   "cell_type": "code",
   "execution_count": 26,
   "metadata": {},
   "outputs": [],
   "source": [
    "dup_test_set = test_dataset.drop('PairID',axis=1)"
   ]
  },
  {
   "cell_type": "code",
   "execution_count": 27,
   "metadata": {},
   "outputs": [
    {
     "data": {
      "text/html": [
       "<div>\n",
       "<style scoped>\n",
       "    .dataframe tbody tr th:only-of-type {\n",
       "        vertical-align: middle;\n",
       "    }\n",
       "\n",
       "    .dataframe tbody tr th {\n",
       "        vertical-align: top;\n",
       "    }\n",
       "\n",
       "    .dataframe thead th {\n",
       "        text-align: right;\n",
       "    }\n",
       "</style>\n",
       "<table border=\"1\" class=\"dataframe\">\n",
       "  <thead>\n",
       "    <tr style=\"text-align: right;\">\n",
       "      <th></th>\n",
       "      <th>SourceAirportID</th>\n",
       "      <th>DestinationAirportID</th>\n",
       "    </tr>\n",
       "  </thead>\n",
       "  <tbody>\n",
       "    <tr>\n",
       "      <td>0</td>\n",
       "      <td>ADW</td>\n",
       "      <td>ADV</td>\n",
       "    </tr>\n",
       "    <tr>\n",
       "      <td>1</td>\n",
       "      <td>ADX</td>\n",
       "      <td>ADV</td>\n",
       "    </tr>\n",
       "    <tr>\n",
       "      <td>2</td>\n",
       "      <td>ADY</td>\n",
       "      <td>ADV</td>\n",
       "    </tr>\n",
       "    <tr>\n",
       "      <td>3</td>\n",
       "      <td>ADZ</td>\n",
       "      <td>ADV</td>\n",
       "    </tr>\n",
       "    <tr>\n",
       "      <td>4</td>\n",
       "      <td>AEA</td>\n",
       "      <td>ADV</td>\n",
       "    </tr>\n",
       "  </tbody>\n",
       "</table>\n",
       "</div>"
      ],
      "text/plain": [
       "  SourceAirportID DestinationAirportID\n",
       "0             ADW                  ADV\n",
       "1             ADX                  ADV\n",
       "2             ADY                  ADV\n",
       "3             ADZ                  ADV\n",
       "4             AEA                  ADV"
      ]
     },
     "execution_count": 27,
     "metadata": {},
     "output_type": "execute_result"
    }
   ],
   "source": [
    "dup_test_set.head()"
   ]
  },
  {
   "cell_type": "code",
   "execution_count": 28,
   "metadata": {},
   "outputs": [
    {
     "data": {
      "text/plain": [
       "0"
      ]
     },
     "execution_count": 28,
     "metadata": {},
     "output_type": "execute_result"
    }
   ],
   "source": [
    "ori_result = []\n",
    "len(ori_result)"
   ]
  },
  {
   "cell_type": "code",
   "execution_count": null,
   "metadata": {},
   "outputs": [],
   "source": [
    "nx.shortest_path_length(G, source=res['ADW'], target=res['ADV'])\n",
    "for i,j in zip(dup_test_set['SourceAirportID'],dup_test_set['DestinationAirportID']):\n",
    "    try:\n",
    "        n=nx.shortest_path_length(G, source=res[i], target=res[j])-1\n",
    "        ori_result.append(n)\n",
    "    except nx.NetworkXNoPath:\n",
    "        ori_result.append(-1)\n",
    "    "
   ]
  },
  {
   "cell_type": "code",
   "execution_count": null,
   "metadata": {},
   "outputs": [],
   "source": [
    "len(ori_result)"
   ]
  },
  {
   "cell_type": "code",
   "execution_count": null,
   "metadata": {},
   "outputs": [],
   "source": [
    "cnt=0;\n",
    "for i in ori_result:\n",
    "    if i==9:\n",
    "        cnt=cnt+1;\n",
    "print(cnt)"
   ]
  },
  {
   "cell_type": "code",
   "execution_count": null,
   "metadata": {},
   "outputs": [],
   "source": [
    "test_dataset.shape"
   ]
  },
  {
   "cell_type": "markdown",
   "metadata": {},
   "source": [
    "## Generating Submission File"
   ]
  },
  {
   "cell_type": "code",
   "execution_count": null,
   "metadata": {},
   "outputs": [],
   "source": [
    "output = pd.DataFrame({'PairID':test_dataset.PairID,'Hops':ori_result})"
   ]
  },
  {
   "cell_type": "code",
   "execution_count": null,
   "metadata": {},
   "outputs": [],
   "source": [
    "output.to_csv('A.csv',index=False)"
   ]
  },
  {
   "cell_type": "code",
   "execution_count": null,
   "metadata": {},
   "outputs": [],
   "source": [
    "best_sub = pd.read_csv('A.csv')"
   ]
  },
  {
   "cell_type": "code",
   "execution_count": null,
   "metadata": {},
   "outputs": [],
   "source": [
    "best_sub.shape"
   ]
  },
  {
   "cell_type": "code",
   "execution_count": null,
   "metadata": {},
   "outputs": [],
   "source": [
    "best_sub.head()"
   ]
  },
  {
   "cell_type": "code",
   "execution_count": null,
   "metadata": {},
   "outputs": [],
   "source": [
    "best_sub.info()"
   ]
  },
  {
   "cell_type": "code",
   "execution_count": null,
   "metadata": {},
   "outputs": [],
   "source": []
  }
 ],
 "metadata": {
  "kernelspec": {
   "display_name": "Python 3",
   "language": "python",
   "name": "python3"
  },
  "language_info": {
   "codemirror_mode": {
    "name": "ipython",
    "version": 3
   },
   "file_extension": ".py",
   "mimetype": "text/x-python",
   "name": "python",
   "nbconvert_exporter": "python",
   "pygments_lexer": "ipython3",
   "version": "3.7.4"
  }
 },
 "nbformat": 4,
 "nbformat_minor": 2
}
